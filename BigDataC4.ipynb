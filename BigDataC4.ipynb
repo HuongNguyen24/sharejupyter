{
 "cells": [
  {
   "cell_type": "code",
   "execution_count": 1,
   "id": "4bcbeac4",
   "metadata": {},
   "outputs": [],
   "source": [
    "from pyspark.sql.types import *"
   ]
  },
  {
   "cell_type": "code",
   "execution_count": 2,
   "id": "779d14fc",
   "metadata": {},
   "outputs": [],
   "source": [
    "idColumn = StructField(\"id\",StringType(),True)"
   ]
  },
  {
   "cell_type": "code",
   "execution_count": 3,
   "id": "30bd75cf",
   "metadata": {},
   "outputs": [],
   "source": [
    "NameColumn = StructField(\"Name\",StringType(),True)"
   ]
  },
  {
   "cell_type": "code",
   "execution_count": 4,
   "id": "2beff021",
   "metadata": {},
   "outputs": [],
   "source": [
    "DescriptionColumn = StructField(\"Description\",StringType(),True)"
   ]
  },
  {
   "cell_type": "code",
   "execution_count": 5,
   "id": "6112db6f",
   "metadata": {},
   "outputs": [],
   "source": [
    "ColorColumn = StructField(\"Color\",StringType(),True)"
   ]
  },
  {
   "cell_type": "code",
   "execution_count": 22,
   "id": "f52d1029",
   "metadata": {},
   "outputs": [],
   "source": [
    "QuantityColumn = StructField(\"Quantity\",StringType(),True)"
   ]
  },
  {
   "cell_type": "code",
   "execution_count": 7,
   "id": "82b601ff",
   "metadata": {},
   "outputs": [],
   "source": [
    "costColumn = StructField(\"Cost\",StringType(),True)"
   ]
  },
  {
   "cell_type": "code",
   "execution_count": 8,
   "id": "59b0c2a3",
   "metadata": {},
   "outputs": [],
   "source": [
    "priceColumn = StructField(\"Price\",StringType(),True)"
   ]
  },
  {
   "cell_type": "code",
   "execution_count": 23,
   "id": "fbe566fe",
   "metadata": {},
   "outputs": [],
   "source": [
    "columnList = [idColumn, NameColumn, DescriptionColumn, ColorColumn, QuantityColumn, costColumn, priceColumn]"
   ]
  },
  {
   "cell_type": "code",
   "execution_count": 24,
   "id": "f769294b",
   "metadata": {},
   "outputs": [],
   "source": [
    "productsDfSchema = StructType(columnList)"
   ]
  },
  {
   "cell_type": "code",
   "execution_count": 25,
   "id": "79570f58",
   "metadata": {},
   "outputs": [
    {
     "data": {
      "text/plain": [
       "StructType([StructField('id', StringType(), True), StructField('Name', StringType(), True), StructField('Description', StringType(), True), StructField('Color', StringType(), True), StructField('Quantity', StringType(), True), StructField('Cost', StringType(), True), StructField('Price', StringType(), True)])"
      ]
     },
     "execution_count": 25,
     "metadata": {},
     "output_type": "execute_result"
    }
   ],
   "source": [
    "productsDfSchema"
   ]
  },
  {
   "cell_type": "code",
   "execution_count": 27,
   "id": "b99f0d6c",
   "metadata": {},
   "outputs": [
    {
     "ename": "ValueError",
     "evalue": "Cannot run multiple SparkContexts at once; existing SparkContext(app=pyspark-shell, master=local) created by __init__ at C:\\Users\\Dell\\AppData\\Local\\Temp\\ipykernel_10252\\168358632.py:3 ",
     "output_type": "error",
     "traceback": [
      "\u001b[1;31m---------------------------------------------------------------------------\u001b[0m",
      "\u001b[1;31mValueError\u001b[0m                                Traceback (most recent call last)",
      "Cell \u001b[1;32mIn [27], line 3\u001b[0m\n\u001b[0;32m      1\u001b[0m \u001b[38;5;28;01mfrom\u001b[39;00m \u001b[38;5;21;01mpyspark\u001b[39;00m\u001b[38;5;21;01m.\u001b[39;00m\u001b[38;5;21;01mcontext\u001b[39;00m \u001b[38;5;28;01mimport\u001b[39;00m SparkContext\n\u001b[0;32m      2\u001b[0m \u001b[38;5;28;01mfrom\u001b[39;00m \u001b[38;5;21;01mpyspark\u001b[39;00m\u001b[38;5;21;01m.\u001b[39;00m\u001b[38;5;21;01msql\u001b[39;00m\u001b[38;5;21;01m.\u001b[39;00m\u001b[38;5;21;01msession\u001b[39;00m \u001b[38;5;28;01mimport\u001b[39;00m SparkSession\n\u001b[1;32m----> 3\u001b[0m sc \u001b[38;5;241m=\u001b[39m SparkContext(\u001b[38;5;124m'\u001b[39m\u001b[38;5;124mlocal\u001b[39m\u001b[38;5;124m'\u001b[39m)\n\u001b[0;32m      4\u001b[0m spark \u001b[38;5;241m=\u001b[39m SparkSession(sc)\n",
      "File \u001b[1;32m~\\AppData\\Local\\Packages\\PythonSoftwareFoundation.Python.3.10_qbz5n2kfra8p0\\LocalCache\\local-packages\\Python310\\site-packages\\pyspark\\context.py:195\u001b[0m, in \u001b[0;36mSparkContext.__init__\u001b[1;34m(self, master, appName, sparkHome, pyFiles, environment, batchSize, serializer, conf, gateway, jsc, profiler_cls, udf_profiler_cls)\u001b[0m\n\u001b[0;32m    189\u001b[0m \u001b[38;5;28;01mif\u001b[39;00m gateway \u001b[38;5;129;01mis\u001b[39;00m \u001b[38;5;129;01mnot\u001b[39;00m \u001b[38;5;28;01mNone\u001b[39;00m \u001b[38;5;129;01mand\u001b[39;00m gateway\u001b[38;5;241m.\u001b[39mgateway_parameters\u001b[38;5;241m.\u001b[39mauth_token \u001b[38;5;129;01mis\u001b[39;00m \u001b[38;5;28;01mNone\u001b[39;00m:\n\u001b[0;32m    190\u001b[0m     \u001b[38;5;28;01mraise\u001b[39;00m \u001b[38;5;167;01mValueError\u001b[39;00m(\n\u001b[0;32m    191\u001b[0m         \u001b[38;5;124m\"\u001b[39m\u001b[38;5;124mYou are trying to pass an insecure Py4j gateway to Spark. This\u001b[39m\u001b[38;5;124m\"\u001b[39m\n\u001b[0;32m    192\u001b[0m         \u001b[38;5;124m\"\u001b[39m\u001b[38;5;124m is not allowed as it is a security risk.\u001b[39m\u001b[38;5;124m\"\u001b[39m\n\u001b[0;32m    193\u001b[0m     )\n\u001b[1;32m--> 195\u001b[0m \u001b[43mSparkContext\u001b[49m\u001b[38;5;241;43m.\u001b[39;49m\u001b[43m_ensure_initialized\u001b[49m\u001b[43m(\u001b[49m\u001b[38;5;28;43mself\u001b[39;49m\u001b[43m,\u001b[49m\u001b[43m \u001b[49m\u001b[43mgateway\u001b[49m\u001b[38;5;241;43m=\u001b[39;49m\u001b[43mgateway\u001b[49m\u001b[43m,\u001b[49m\u001b[43m \u001b[49m\u001b[43mconf\u001b[49m\u001b[38;5;241;43m=\u001b[39;49m\u001b[43mconf\u001b[49m\u001b[43m)\u001b[49m\n\u001b[0;32m    196\u001b[0m \u001b[38;5;28;01mtry\u001b[39;00m:\n\u001b[0;32m    197\u001b[0m     \u001b[38;5;28mself\u001b[39m\u001b[38;5;241m.\u001b[39m_do_init(\n\u001b[0;32m    198\u001b[0m         master,\n\u001b[0;32m    199\u001b[0m         appName,\n\u001b[1;32m   (...)\u001b[0m\n\u001b[0;32m    208\u001b[0m         udf_profiler_cls,\n\u001b[0;32m    209\u001b[0m     )\n",
      "File \u001b[1;32m~\\AppData\\Local\\Packages\\PythonSoftwareFoundation.Python.3.10_qbz5n2kfra8p0\\LocalCache\\local-packages\\Python310\\site-packages\\pyspark\\context.py:430\u001b[0m, in \u001b[0;36mSparkContext._ensure_initialized\u001b[1;34m(cls, instance, gateway, conf)\u001b[0m\n\u001b[0;32m    427\u001b[0m     callsite \u001b[38;5;241m=\u001b[39m SparkContext\u001b[38;5;241m.\u001b[39m_active_spark_context\u001b[38;5;241m.\u001b[39m_callsite\n\u001b[0;32m    429\u001b[0m     \u001b[38;5;66;03m# Raise error if there is already a running Spark context\u001b[39;00m\n\u001b[1;32m--> 430\u001b[0m     \u001b[38;5;28;01mraise\u001b[39;00m \u001b[38;5;167;01mValueError\u001b[39;00m(\n\u001b[0;32m    431\u001b[0m         \u001b[38;5;124m\"\u001b[39m\u001b[38;5;124mCannot run multiple SparkContexts at once; \u001b[39m\u001b[38;5;124m\"\u001b[39m\n\u001b[0;32m    432\u001b[0m         \u001b[38;5;124m\"\u001b[39m\u001b[38;5;124mexisting SparkContext(app=\u001b[39m\u001b[38;5;132;01m%s\u001b[39;00m\u001b[38;5;124m, master=\u001b[39m\u001b[38;5;132;01m%s\u001b[39;00m\u001b[38;5;124m)\u001b[39m\u001b[38;5;124m\"\u001b[39m\n\u001b[0;32m    433\u001b[0m         \u001b[38;5;124m\"\u001b[39m\u001b[38;5;124m created by \u001b[39m\u001b[38;5;132;01m%s\u001b[39;00m\u001b[38;5;124m at \u001b[39m\u001b[38;5;132;01m%s\u001b[39;00m\u001b[38;5;124m:\u001b[39m\u001b[38;5;132;01m%s\u001b[39;00m\u001b[38;5;124m \u001b[39m\u001b[38;5;124m\"\u001b[39m\n\u001b[0;32m    434\u001b[0m         \u001b[38;5;241m%\u001b[39m (\n\u001b[0;32m    435\u001b[0m             currentAppName,\n\u001b[0;32m    436\u001b[0m             currentMaster,\n\u001b[0;32m    437\u001b[0m             callsite\u001b[38;5;241m.\u001b[39mfunction,\n\u001b[0;32m    438\u001b[0m             callsite\u001b[38;5;241m.\u001b[39mfile,\n\u001b[0;32m    439\u001b[0m             callsite\u001b[38;5;241m.\u001b[39mlinenum,\n\u001b[0;32m    440\u001b[0m         )\n\u001b[0;32m    441\u001b[0m     )\n\u001b[0;32m    442\u001b[0m \u001b[38;5;28;01melse\u001b[39;00m:\n\u001b[0;32m    443\u001b[0m     SparkContext\u001b[38;5;241m.\u001b[39m_active_spark_context \u001b[38;5;241m=\u001b[39m instance\n",
      "\u001b[1;31mValueError\u001b[0m: Cannot run multiple SparkContexts at once; existing SparkContext(app=pyspark-shell, master=local) created by __init__ at C:\\Users\\Dell\\AppData\\Local\\Temp\\ipykernel_10252\\168358632.py:3 "
     ]
    }
   ],
   "source": [
    "from pyspark.context import SparkContext\n",
    "from pyspark.sql.session import SparkSession\n",
    "sc = SparkContext('local')\n",
    "spark = SparkSession(sc)"
   ]
  },
  {
   "cell_type": "code",
   "execution_count": 28,
   "id": "49b87817",
   "metadata": {},
   "outputs": [],
   "source": [
    "productsDfSchema = spark.read.csv('products.csv', header=True, schema= productsDfSchema)"
   ]
  },
  {
   "cell_type": "code",
   "execution_count": 29,
   "id": "dc64d6f1",
   "metadata": {},
   "outputs": [
    {
     "name": "stdout",
     "output_type": "stream",
     "text": [
      "+---+--------------------+--------------------+-----+--------+-------+-------+\n",
      "| id|                Name|         Description|Color|Quantity|   Cost|  Price|\n",
      "+---+--------------------+--------------------+-----+--------+-------+-------+\n",
      "|214|Sport-100 Helmet,...|Universal fit, we...|  Red|      10|13.0863|  34.99|\n",
      "|215|Sport-100 Helmet,...|Universal fit, we...|Black|      35|12.0278|33.6442|\n",
      "|218|Mountain Bike Soc...|Combination of na...|White|      55| 3.3963|    9.5|\n",
      "|219|Mountain Bike Soc...|Combination of na...|White|      78| 3.3963|    9.5|\n",
      "+---+--------------------+--------------------+-----+--------+-------+-------+\n",
      "only showing top 4 rows\n",
      "\n"
     ]
    }
   ],
   "source": [
    "productsDfSchema.show(4)"
   ]
  },
  {
   "cell_type": "code",
   "execution_count": 33,
   "id": "e59c3b42",
   "metadata": {},
   "outputs": [],
   "source": [
    "productsDf = spark.read.csv('products.csv', header=True, inferSchema=True)"
   ]
  },
  {
   "cell_type": "code",
   "execution_count": 34,
   "id": "4cf15b14",
   "metadata": {},
   "outputs": [
    {
     "name": "stdout",
     "output_type": "stream",
     "text": [
      "+----------+--------------------+--------------------+------------+-------------+-----------+------------+\n",
      "|ProductKey|         ProductName|  ProductDescription|ProductColor|OrderQuantity|ProductCost|ProductPrice|\n",
      "+----------+--------------------+--------------------+------------+-------------+-----------+------------+\n",
      "|       214|Sport-100 Helmet,...|Universal fit, we...|         Red|           10|    13.0863|       34.99|\n",
      "|       215|Sport-100 Helmet,...|Universal fit, we...|       Black|           35|    12.0278|     33.6442|\n",
      "|       218|Mountain Bike Soc...|Combination of na...|       White|           55|     3.3963|         9.5|\n",
      "|       219|Mountain Bike Soc...|Combination of na...|       White|           78|     3.3963|         9.5|\n",
      "+----------+--------------------+--------------------+------------+-------------+-----------+------------+\n",
      "only showing top 4 rows\n",
      "\n"
     ]
    }
   ],
   "source": [
    "productsDf.show(4)"
   ]
  },
  {
   "cell_type": "code",
   "execution_count": 35,
   "id": "d47a804f",
   "metadata": {},
   "outputs": [
    {
     "name": "stdout",
     "output_type": "stream",
     "text": [
      "root\n",
      " |-- ProductKey: integer (nullable = true)\n",
      " |-- ProductName: string (nullable = true)\n",
      " |-- ProductDescription: string (nullable = true)\n",
      " |-- ProductColor: string (nullable = true)\n",
      " |-- OrderQuantity: integer (nullable = true)\n",
      " |-- ProductCost: double (nullable = true)\n",
      " |-- ProductPrice: double (nullable = true)\n",
      "\n"
     ]
    }
   ],
   "source": [
    "productsDf.printSchema()"
   ]
  },
  {
   "cell_type": "markdown",
   "id": "4bc5b481",
   "metadata": {},
   "source": [
    "Tính lợi nhuận theo từng sản phẩm"
   ]
  },
  {
   "cell_type": "code",
   "execution_count": 39,
   "id": "e8770420",
   "metadata": {},
   "outputs": [],
   "source": [
    "productsDf1 = productsDf.withColumn('Profit',(productsDf.ProductPrice - productsDf.ProductCost)*productsDf.OrderQuantity)"
   ]
  },
  {
   "cell_type": "code",
   "execution_count": 40,
   "id": "b40e1f89",
   "metadata": {},
   "outputs": [
    {
     "name": "stdout",
     "output_type": "stream",
     "text": [
      "+----------+--------------------+--------------------+------------+-------------+-----------+------------+------------------+\n",
      "|ProductKey|         ProductName|  ProductDescription|ProductColor|OrderQuantity|ProductCost|ProductPrice|            Profit|\n",
      "+----------+--------------------+--------------------+------------+-------------+-----------+------------+------------------+\n",
      "|       214|Sport-100 Helmet,...|Universal fit, we...|         Red|           10|    13.0863|       34.99|           219.037|\n",
      "|       215|Sport-100 Helmet,...|Universal fit, we...|       Black|           35|    12.0278|     33.6442|           756.574|\n",
      "|       218|Mountain Bike Soc...|Combination of na...|       White|           55|     3.3963|         9.5|          335.7035|\n",
      "|       219|Mountain Bike Soc...|Combination of na...|       White|           78|     3.3963|         9.5|          476.0886|\n",
      "|       220|Sport-100 Helmet,...|Universal fit, we...|        Blue|           50|    12.0278|     33.6442|           1080.82|\n",
      "|       223|        AWC Logo Cap|Traditional style...|       Multi|           66|     5.7052|      8.6442|           193.974|\n",
      "|       226|Long-Sleeve Logo ...|Unisex long-sleev...|       Multi|           42|    31.7244|     48.0673| 686.4018000000002|\n",
      "|       229|Long-Sleeve Logo ...|Unisex long-sleev...|       Multi|           78|    31.7244|     48.0673|1274.7462000000003|\n",
      "|       232|Long-Sleeve Logo ...|Unisex long-sleev...|       Multi|           46|    31.7244|     48.0673| 751.7734000000002|\n",
      "|       235|Long-Sleeve Logo ...|Unisex long-sleev...|       Multi|           31|    31.7244|     48.0673|506.62990000000013|\n",
      "+----------+--------------------+--------------------+------------+-------------+-----------+------------+------------------+\n",
      "only showing top 10 rows\n",
      "\n"
     ]
    }
   ],
   "source": [
    "productsDf1.show(10)"
   ]
  },
  {
   "cell_type": "markdown",
   "id": "b71e305e",
   "metadata": {},
   "source": [
    "Làm tròn số"
   ]
  },
  {
   "cell_type": "code",
   "execution_count": 42,
   "id": "935bdb59",
   "metadata": {},
   "outputs": [],
   "source": [
    "from pyspark.sql.functions import round"
   ]
  },
  {
   "cell_type": "code",
   "execution_count": null,
   "id": "76c40f1c",
   "metadata": {},
   "outputs": [],
   "source": []
  }
 ],
 "metadata": {
  "kernelspec": {
   "display_name": "Python 3 (ipykernel)",
   "language": "python",
   "name": "python3"
  },
  "language_info": {
   "codemirror_mode": {
    "name": "ipython",
    "version": 3
   },
   "file_extension": ".py",
   "mimetype": "text/x-python",
   "name": "python",
   "nbconvert_exporter": "python",
   "pygments_lexer": "ipython3",
   "version": "3.10.7"
  }
 },
 "nbformat": 4,
 "nbformat_minor": 5
}
